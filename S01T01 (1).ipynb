{
 "cells": [
  {
   "cell_type": "markdown",
   "id": "210a66c1",
   "metadata": {},
   "source": [
    "#  MarkDown"
   ]
  },
  {
   "cell_type": "markdown",
   "id": "2a1fa675",
   "metadata": {},
   "source": [
    "## Orginazing text"
   ]
  },
  {
   "cell_type": "markdown",
   "id": "7dcba65d",
   "metadata": {},
   "source": [
    "### Text levels\n",
    "\n",
    "\n",
    "\n"
   ]
  },
  {
   "cell_type": "markdown",
   "id": "22332d71",
   "metadata": {
    "heading_collapsed": true
   },
   "source": [
    "### Text emphasis "
   ]
  },
  {
   "cell_type": "code",
   "execution_count": 2,
   "id": "3ce53695",
   "metadata": {
    "hidden": true
   },
   "outputs": [],
   "source": [
    "# Heading 1 \n",
    "## Heading 2\n",
    "### Heading 3\n",
    "#### Heading 4\n",
    "##### Heading 5\n",
    "###### Heading 6"
   ]
  },
  {
   "cell_type": "markdown",
   "id": "65abaf38",
   "metadata": {
    "heading_collapsed": true
   },
   "source": [
    "### Text emphasis\n",
    "\n",
    "*Italic Text* \\\n",
    "**Bold Text** \\\n",
    "***Bold And Italic Text** "
   ]
  },
  {
   "cell_type": "markdown",
   "id": "370a0ef0",
   "metadata": {},
   "source": [
    "###  Breakers"
   ]
  },
  {
   "cell_type": "markdown",
   "id": "2c76c524",
   "metadata": {},
   "source": [
    "***\n",
    "----\n",
    "-----"
   ]
  },
  {
   "cell_type": "markdown",
   "id": "baee4df9",
   "metadata": {},
   "source": [
    "### Quotes"
   ]
  },
  {
   "cell_type": "markdown",
   "id": "b1afb258",
   "metadata": {},
   "source": [
    ">\n",
    ">>>>>\n"
   ]
  },
  {
   "cell_type": "markdown",
   "id": "bab687f8",
   "metadata": {},
   "source": []
  },
  {
   "cell_type": "markdown",
   "id": "a4a13473",
   "metadata": {},
   "source": [
    "## CSS"
   ]
  },
  {
   "cell_type": "markdown",
   "id": "df129615",
   "metadata": {},
   "source": [
    "### Text Color\n",
    "\n",
    "<span style='color: red'> Omar Assila</span>\n",
    "<span style='color:Blue'> IT Academy   </span>\n",
    "\n",
    "<code style=\"color:green;\">i_am_green_var </code>\n",
    "<code style=\"color:YOUR_COLOR_CHOICE;\">\n",
    "\n",
    "   \n",
    "\n",
    "</code>"
   ]
  },
  {
   "cell_type": "markdown",
   "id": "9850c5fa",
   "metadata": {},
   "source": [
    "###  Widgets"
   ]
  },
  {
   "cell_type": "code",
   "execution_count": 3,
   "id": "37567117",
   "metadata": {},
   "outputs": [],
   "source": [
    "import ipywidgets as widgets"
   ]
  },
  {
   "cell_type": "code",
   "execution_count": 4,
   "id": "e9feee58",
   "metadata": {
    "code_folding": []
   },
   "outputs": [
    {
     "data": {
      "application/vnd.jupyter.widget-view+json": {
       "model_id": "2d8e70d2864f4186b2bb110bec631662",
       "version_major": 2,
       "version_minor": 0
      },
      "text/plain": [
       "ColorPicker(value='blue', description='Pick a color')"
      ]
     },
     "metadata": {},
     "output_type": "display_data"
    }
   ],
   "source": [
    "widgets.ColorPicker(\n",
    "    concise=False,\n",
    "    description='Pick a color',\n",
    "    value='blue',\n",
    "    disabled=False\n",
    ")\n"
   ]
  },
  {
   "cell_type": "markdown",
   "id": "a7113717",
   "metadata": {},
   "source": [
    "### Background Color"
   ]
  },
  {
   "cell_type": "markdown",
   "id": "e5c2e66b",
   "metadata": {},
   "source": [
    "<span style='background:yellow'> Changing Text Background </span>\n",
    "<span style='background :purple; color:white' > Changing Text Color and Background Both </span>"
   ]
  },
  {
   "cell_type": "markdown",
   "id": "51111c45",
   "metadata": {},
   "source": [
    "<span style='color:green'> message/text </span>\n",
    "Example: \n",
    "<span style='color:Blue'> Blue is my favorite color.  </span>"
   ]
  },
  {
   "cell_type": "markdown",
   "id": "9fb0e13c",
   "metadata": {},
   "source": [
    "| How | To | Make | a table|\n",
    "| :---: | :---: | :---: | :---: |\n",
    "| in   | <span style= 'background:yellow'> Jupyter </span>| <span style= 'background:yellow'> Notebook </span>| <span style= 'background:yellow'> Markdown </span> |\n",
    "| It | is | really| cool |"
   ]
  },
  {
   "cell_type": "markdown",
   "id": "50a882d9",
   "metadata": {},
   "source": [
    "### Font size and font weight"
   ]
  },
  {
   "cell_type": "markdown",
   "id": "b47692a6",
   "metadata": {},
   "source": [
    "\n",
    "\n",
    "<span style='font-family:Georgia'> It is Georgia font </span>\n",
    "<span style='font-family:Verdana'> It is Verdana font </span>"
   ]
  },
  {
   "cell_type": "markdown",
   "id": "d672be3d",
   "metadata": {},
   "source": [
    "### colored note"
   ]
  },
  {
   "cell_type": "markdown",
   "id": "f57d898a",
   "metadata": {},
   "source": [
    "<div class=\"alert alert-block alert-danger\">\n",
    "<b>Danger:</b> This is a red box.</div>\n",
    "\n"
   ]
  },
  {
   "cell_type": "markdown",
   "id": "47891ab6",
   "metadata": {},
   "source": [
    "<div class=\"alert alert-block alert-success\">\n",
    "<b>Success:</b> Wich color it's this ?.</div>"
   ]
  },
  {
   "cell_type": "markdown",
   "id": "a402f560",
   "metadata": {},
   "source": [
    "## Creating tables"
   ]
  },
  {
   "cell_type": "markdown",
   "id": "9d5def79",
   "metadata": {},
   "source": [
    "Syntax For <table>\n",
    "<table>\n",
    "    <tr>\n",
    "        <th> SN </th>\n",
    "        <th> Column A </th>\n",
    "        <th> Column B </th>\n",
    "        <th> Column C </th>\n",
    "    </tr>\n",
    "    <tr>\n",
    "        <td>0</td>\n",
    "        <td>10</td>\n",
    "        <td>11</td>\n",
    "        <td>100</td>\n",
    "    </tr>\n",
    "    <tr>\n",
    "        <td>1</td>\n",
    "        <td>22.5</td>\n",
    "        <td>23</td>\n",
    "        <td>23.5</td>\n",
    "    </tr>\n",
    "\n",
    "</table>"
   ]
  },
  {
   "cell_type": "markdown",
   "id": "ebe7c855",
   "metadata": {},
   "source": [
    "## Hyperlinks"
   ]
  },
  {
   "cell_type": "markdown",
   "id": "469021e9",
   "metadata": {},
   "source": [
    "My Githup Profile link:\n",
    "\n",
    "[Github Profile Link](https://github.com/OmarOneil)"
   ]
  },
  {
   "cell_type": "markdown",
   "id": "c6bb2f3f",
   "metadata": {},
   "source": [
    "## Images"
   ]
  },
  {
   "cell_type": "markdown",
   "id": "fbeb492e",
   "metadata": {},
   "source": [
    "▶ \n",
    "<img src='data:image/jpeg;base64,/9j/4AAQSkZJRgABAQAAAQABAAD/2wCEAAoHCBYWFRgWFhYYGBgaGhwZGhwcGhwcHB4aHRwcGhweIRocIS4lISUuHxoaJjgmKy8xNTU1HiQ7QDs0Py40NTEBDAwMEA8QHxISHzQrJSs0NDQ0NDQ2NDQ0NDQ0NDQ0NDQ0NDQ0NDQ0NDQ0NDQ0NDQ0NDQ0NDQ0NDQ0NDQ0NDQ0NP/AABEIAOEA4QMBIgACEQEDEQH/xAAbAAACAgMBAAAAAAAAAAAAAAAABAIDAQUGB//EADsQAAEDAgMFBgQFBAICAwAAAAEAAhEDIRIxQQRRYXGRBSKBobHwBjLB0RNCUuHxYnKCohQWksIzstL/xAAZAQADAQEBAAAAAAAAAAAAAAAAAgMBBAX/xAAmEQADAAIDAAIBBAMBAAAAAAAAAQIRIQMSMUFRYQQTIjJSgZFC/9oADAMBAAIRAxEAPwDxlCEIAEIQgAQhCABCkxpJgC5W62D4fe6C84Buzd+yx0l6apb8NIBNgtvsnw/WfctDBveY/wBc/JdTsXZjaY7rcPHNx8fsnWhQrn/xLxw/5HP0fhem0S9738Gtgeck+C3m09l9n7PhwtNZ8AuY5wbBIBIIcC7IjNrc7GQQmqLCT+WxEhxGrv0Tifxwi2sWVPaWysLyWMDThALWAlmK/wArnGSI8fRIuRv1lHCXiL+ztjq1w99Cjs2zU2mzyybmQGtkOLzpEW4Le7P8L1CBirP1BBp08OIRfDBI1tiKQ7H7Qp0WMa5g7rCCQM3PLg9zsIk91wZcG0gRMrYf9hcKOOmWNaCGMLyccDECcAvaTcie9edXmpwZ1rI+34QYfnqPBAzbgaNblrAMWWoMcJS9f4HYe455LDcPLGPcHCSQRh+WBGh45JA/Ege8NL6jKdNgEsxmpVkkF2IiWtECYvLh3tDvaPxdszRgaXsG5zH4ieLoIPgU2YMSZwnbnwmyiRjYx7HCRUptLBP6S0OMHhK0Fb4apOEse5vOHDlFivQO0/iOk9jmQ5zS2WgAtP4hsHO0w64Rqd+XOMbYkkCY0N+RyNlJ209MbpL9Rxm1/D1ZkkAPH9Of/ib9JWqewgwQQRmDYr0Ys3FLbXsjXiHNDuYv4HMKk832Srh+jz9C6Hbfh03NIz/S7PwdkfGFoqlMtJBBBGYIgqypV4ScufStCELRQQhCABCEIAEIQgAQhCABCEIAFsuyeyKlcw0Q0fM45D7ngE32B2GaxxPltMHPVx3D6ldzTY1rQ1jQ1oEAAWH3+qhy83XS9L8XD22/DT7N2Syh8ol2rj8x5bhyWx2doAsFVXknKVbs9UtXPTbWzolJPQyKJNyj8MBVGqd6iKpU8MplDQAVjq7nNa0kYWmQA1ouZk4mtDjYnMlKYp+vJWMt798Vm0b6Q2yhjad4y+37rTvYQLQDIbG/OTOS3lR4haiuwkzoZidFXjb8ZPkS9QuHC0gSLSM4Of0VrWARlF8t+9YDb3seiAFVkkW7pEaEiCCD/cDGWYM3twZxgWbkb5z56pSFJrzlpuSNZGTwNxKxCrY/ipykwPkg+wS+0dn064hwvo4ZjkfpkmHN1lRYwgjomTa8YrWfUcd2v2JUoGT3maOGXI7itSvUWulpa4BzSIINwRyXJ9vdgYB+LR71PMjMt48R6eavx82dMhycWNo5pCEK5AEIQgAQhCABCEIAFvfh7sU1nY3yKbTfe4/pH1KU7F7MdXqBokNF3HcPucgu+2fZQ1oYyzRYcvfW6jzcvVYXpfh4uzy/C6k0WAADQIAAgADIALG0kxATDacXSzmyZhcCeXk7msLBUxkKbKSyQFEzpZPkTAFgGawXBH4awWLTAxRdH4qIUS1GgB1ceKpNQaqT6U5pR1F4nUKkqRKbJveNbKDqkXaRySzi4GCshyr1Jdix1ZRbVUJG5Qfw9+K1SjHTGfxlZRrpFTa5DhAqZtmFMCn0WqoVDoUwa7xabKNQy00jYNEZKYAgtAA5JGltEphs5jPcVJy16UVJnHdu9kgYqlMd0HvtH5SdR/SfJc+vRqJcwlrgHAiDIzEkGdLjTnvXJfEPZP4D5ZJpvu05xvaTvHmPFdvHyfD/ANHJyRhZRpUIQqkAQhCABWMYSQAJJMADOTkq11HwX2fieazhLWWb/cdfAX5kJbpTLbHiXVJI6TsXswUKQZ+c955/q3chl1Oq2jQBksMuVJ4XlXTp5Z6kQpWEVbSZEDNYo0LXVjaatYFjrCwjVOXllQpLD6aaqZtEZqmoIdGnvNKqbNcpFBYouppprVnB781vYzqIFiwaN5TpZePfvNYdSTdxehrXVBiLN0yd2UZjOT5IYz36Jx9EDRRwfxu/f3xVOy+BOr+ROrs7TmtfWo4StrUeJ4eSp2loc21+I0VYponUpmpIVbimXblU/euhMg0VgKSwH6KUphSLHQmC82VEKykJICWkvTU2MtsReyfpWHIT4eHilmbKThsMuYTb3hotu9hc1vOkdErG2KOeCSD8u6+cyrauyNrUnU3a5H9Lhk73pKXjVs315pyhw9UVpaBb9PN9q2d1NzmOEFpIIVC7P4z7Olra4FxDX/8Aq7/1/wDFcYuzjvtOTj5I61gEIQnEJNaSYF5XqXZuxfg0mUxmBLuLjc+a4n4Q2L8TaGk5MGM8xEf7EL0Rrdc1xfq78k7f0sadEqTczuCHZLBPdPOPqstBXD+TtJMaiLz74LICmSsyNggQZnMqt2d1cTZRLEJmNEHCeCw8/b30VjmKLt2iEwaItvkrG55LDW7vfsrIA3nJDBEixL4J5JnHAIGem7r16KlzhkFsthSQq+kNUrtVKASLXjmE5iPJJ1XY3kDIW6Z/ZWjOSFYwa5zCbC5StRh3c1tNopxHMxv3/UpN7STz9Psuuayc1TgUwXUyFaGSVkszT9hOpWGKQbB5KwNsgt1WOjcGypuOEabudvoqoIvMD984NtfVWMNhy+kKLzF/HP3C516dD8FsPet6gxrn7yTtE+9yXNI4riCDkmaR4ZW99UU8oyVsYdRa9rmO+VzS0+Iz6wfBeW7Xs7qb3Mdm1xaeYML1Vg3aLjPjnZMNVtQZVG3/ALmwD5YfNP8AprxXX7F/URme30cshCF3YOE734E2aKT6mr3ho5NEmPF3+q6jELjcOO8e/FIfDOzYNlpDe3Ef8iXDyITrcvfM/RePzV25G/yetxT1hL8ARZWMFlktUmiyk3oqkB4IIIRGiuLPJK3gZLIsAp4VNzb++P7dURCMhgqU2hYABupShhgqDUBsefRWwq6hstTMawYNhmlaz40MWuFY+q1jXPJOVwBcjPLVa5231KkOBawNzyBIknKI1F1WJb38ErpLXyH4rnb25kGxBaM9Re46pfYiRJg31tBsDiv7srX7VBLnxhMjugRJzJMZ30UtmZZuGTAGEnVoAkEgTPgr+SR9ZDbKmQnT1/hJNztytuOaeeybxEk2mfpwVL6JaCSLW5p5aSwJSbeSgN+qy3M2/ZAOUKTCnFANWWuAN8lE5qBCzGTRxjw8SOSMKls7CBkOfvmpwpN70US0YFzJz4LNKcfA/ZZwQBebX9fRQkTim4y+vqg3wdYVqfi/Z8Wyk6sc1w5Hukf7A+C2rHblnbKGKk9g/MxzfEtMecKc11tMap7Q0eSQhShC9Q83B7HsjcNNjRoxjejQPorGlRa6/CAPJWAdF4b9PZXgALPBZlYCUcGhTxQoghRJQBNjRBMZxflIHqVNkQZHJVtWcSxo1GCsLJKxK0wCUq5pJkm05clc5yWLI+Z08BbzTyhKZKo4agR4+qQ2imzH8gORxDMbpMWyVzy02vqM/MWssioQIkGPzFrSc+UdArSnJKmmKbZTtMYQ4tIAEBoAwgCwEEkzvtulJUiWmJIE2HXcFuNqqONO4mTkAMt9kjsmzYsOfHNViv4vJGp/loecLDiJWHiQQcla4KMKWSzRrqmzGTGR3+KpDJ4bltAxL/8AGkjcNFWb+yVR9CYbPp6fumKdBMM2cK5jFlcn0Ex9lDG9CA7yhYe3orR3WhvMeCw5zQ1znAkNa51iALDFG/8AhLkfBW9gGUEOcbxhOQE9RnuCg5t8IIMxEZEeW9Se2wc2C0nIkSPlJvOUmZ/qUS0Cc5l1oyzM23JkKyyk7wg/t10T1F2S1FN5kZ5zz1+i2FAwN3sH1S2hoZx//XOSF234DdxQm/foX9lFsenorcWRCX2apiaxwycxrh/k0FMuYuWvdnTPgC/v37KlUZ79NQojT3dWPNgkHK6RuJEgzFoPM/bRXBgE5op0hmMzYnhnCxVzSt5ejUsLZF+c6angM0PcMgpRZBa3PVbkCCwswiLLTBZ9zv3aSdL8UpVfPLhzTbm56RfzSz2/wrRgjQuSJ4IbkpOYssGpFgRO5V+CWBuqye6dI6KGANFhG/xvKqa8Bx3cePBM1ybe/eantaK6eyuFhyjhOijjMrcC5LJiVGePsZrE3zjj78VMMltyIHHyR4HpBxIO8R4qyqwRM/Y5IcJzsBEWM3MD18lULEjmDrzR6aSwEXM90TkOevPXcldtIaARAIz3RhMnyJ8UztNTCyW3ORPnfjC0rqpcY1yF95Cpxy3slyUlofY0Rr8ovNiCBPPesBwLnEWNjGliJvxWXtNgDLQNIFsjnyVVcWJGRgAz4nrCZbMeiWE4uEJujqtRSqE3E/LfQZ2strsdbuhwHHoNEcktIIpNjmEb1hcf/wBmCEv7NfQ370nSfD1bFs1Fw/ThP+JLfotvTdC5T4E2qaLmTdj8X+Lh92nquna+58lPnnFtFOGswmXsfYRBM65REn09VY5usZgO66e9yWDARcSCd5HHMGU26oTf3G5c1aejon8lcQpFZdfgsPMWmVnppJhsRrpuVF9QrGOWXP00HjxQBAFYePfDNFUgevgs4bmDN4HvomMK3M8/RLPYmz7uqaw4JpYlIUe1V4fe9MkKhytLJUi3YZk2kRnu9x5KwkHcQfoYUGVAMhnlEW6wDr0VTmOdGHvYpvG46cOJ3pWsvJucLBMsMTaAZ48NFH8OTYdPRDS5stdabib5kdVJgMxJgamBa2hlb4YYY3Kef0VrOuXnPXLyUblx1IkbtY58FJ7bdT5LGaiDnxG6QSfEz6+alWYMyTBMWFgSJvAslC/FrIvlv9wh9eBcaZ8IP138U3Vi9kS2qh3T3iA288cstd38rU1WAy5sXEg5RBg+oTNes57Ggbzac9yhSIDmskmcUxxg+o9FeE5WyNNUyzaDZrotIcWi0yJzyzlQ23usbFrzGfL1Vu2iwM2By04LXdo1JIvbT34wmiezQtvrkK9WGnjnx9yVYzahT2d054MTYvm0n1WvfU6bzu3eF+qp7VfGzlxzdhYP/s7081dwsJP7Iq3ltfRysrCEK5DJ0fwVtmDaA0mBUBZ45t8xHiu+DsrGxEgTpnlwleRUqha4EGCCCDuIuCvU+z9vFRjKjfzgExo4ZjrI8Fxfqo/9I7P0t66s2YeIEXF7+Sy1xJI+nvf5qo3HvfKg8k3OdrAwNdfALz+p35G3PIj+PfNZpugAZ2y6fZUvqzPdg5ab96yDYkAaQLQIN58D5JeoOsMsPl5dVQXuFo8c0P2rCQwTiM6u3NncDnEz42kRY83xYWttBhwkbyTiHQ+KZSzOyZJgIlx7xAd1tB4xeyz/AMhgGJwwiRui5jObX+maupM1EHjPgcrTM2lUbW8PaWH5iRYkDfzkSOGWaFt4B6WSxtVrowmRHTK3pylZSmy1GAOEhpBFi0N3RwNsiJTMbpO8xF9Rf6IqcM2ayhZ59++Sre03Pl75K+q0k2v5eq1209rMp91nefF8OQ1ieYHRVhN6SJU0vWW1SCYiQBiMDQAuMeCqpbUypIYSzvNJIi85EZiJERCaD2FuMdzMmbRIytoLrTNruHzDMgxlM96SYz1VZnKZOqwzoXRMnOIlL0Cxz3DFjLYLhGpNpPVJ1NqgGJMa8eO5MbMcDJGpxT0up9GkP2TY09wbJym5J/dUUdqxiYwiYE3tOfC0lU7RUJBEGDy+6qx2jTh74LZjWwqtlWzPud148Tw4eqYeffX7KIgXs1uQnoqNqrBwABmbKuM0SzhFVQYgcJIzCSpOwvtNj563Tj+40yYjPiTokqDcRxE2nwJOeavPj+iNer7Nvtr2lmfHLfB+i01YXJcTIiBuzn6W4rYv70RbdORi8/ZLMoWnQZyc9+fCfYS8eJRt5pi1LZS8gNBw2JJvaYjibcFr/i2qA5lFpkNGI/3OiJ/xA8CunY5rGlxs1okkjQXPkF55t20mo9zzm4k8hoPAQFXjbqs/CJ8iUzj5YshCFc5wXS/CvaRaTSJse83nqOl/ArmlOk8tIcDBBkHiFlSqWGNNOXlHrOybSHDNMxLomNeP7hcr2Vtwc0ObbRw/S5bahtdzpe30XmcnC03g9KOZNLJtqbrw4RHvfEIe8HQ3B0yOlozn3up/HkgnXy3qwgEKHXDyy2crCKHtIktwhwmCMxYxfM3g+CNoqSbkG5Bg7sxKm8KqqA4QU69EfgUKIEwSDwN+MTlKltbHgjvYmktschvjX/ZVUXb9Ew7aB8szrvQ208+gkmvoXLHZYja2IhxNwWmxJOup0FrJrZnS3CSC/TQuacjHqCqHglxcDvtbwz0sOpVePvEYCb52vN8QObfL7s12Ri/iNudlIMi94IOX5mgEZZwc0jV2VtM4wLGJIz0vBg2MDxyV/wDyXjKSNxYXwL/p70Rqqdprh4LXN1/K4WI/ocRBiNSb7kQqT/BlOWvyQqPBEDWLDM5Wy18s0jtO0AOEgGL8oNiYmLq0vAtI4acc+W/ilXvgmWnd9DPVdEQQqgbXgmGg3uIdNvAjNXUNtuBAG/MjwytFt6T/ABQ0XzJ55x9yoUnk2EtnhJ3xcwL6WzVXCa8Jqmn6PVNvOEYQfGOE2zjjbksMruwEgYtCQLDj1UG7ITBLhrOERzvM6BNsDYDREBJXVLCQ67P1ijWF2eWiZoU2h1hpmVa5m+yiyDMdZSN5QyWGKbWMRLdN/GLBVincSYaPDqmqrM8MaH180q4H5rQJ5Zap5esCUtjGMEQCCTxjmstEkEiD7tbS5z1HiqKVP80zbukW/nUK6rWbTa57j3WieZ0A5myGvhGp/LNR8VbdhYKQPedd39oNup9FyCY23aTUe55zJnkNB4CAl11RPVYOW67PIIQhMICEIQBsOytuNJ1/ldZw4b+YXU06sQ4XGcjVp1XDLb9kdo4e48905H9JP0S1OR5rGjsW7Vaxyg+Oh8o8eC2FDabA6Fc3JaZF25Hxv0OdltNhqwN4438FycvEsaOvj5Hk2zqgOqqqPhU7SwGMNklWpu3nqoTCfyVq2vgbbXEq4bRLYWldiFvYVjKpCq+JE1yM2rHq4VQdFq6e1yrfx0lcbHVjtRwgrV165JABF7Xyz4qx1bio069oLQeWf8rZnqZVdijbtjLQXyDDROc5xlkUux8tgk36J+q8EOe+MMGQMxIMW5StRSfl5LphtzsheFWiws6D3lCxScQZv6eik543g7/fNSBMXTZFwMbL3QST3Yk5eg4qdPaJEtFuMAfdKOeALePvVRYXETYDckcZ2xlWNIfrVMTpGQsOm5TomJPlx4JRj1d+Ikc6wMq+RjOdbyd29UPpzZ1/28tywX/uhjSbDlH7ISwa3km0SRwiPDiuV+Ie0/xDgae405/qdqeW7x3pz4g7UDQaNMycnuBtxaPqfDeuXVuOPlkeS/hAhCFYgCEIQAIQhAAhCEAbvsjtMNinUPdyDtRwPD05LpmMw6gtIkEazqDqvPgtx2R20+j3SMdObtOnFp09PVTuM+FYtLTO0Y739UGoMsiqdi2hlUYqbpGrTZw8NPRMOYD9siuN4T2daeVoXrUwUuGbrp51HjPkqDs/CNypNIRyxF4MwWkTuP1ClcC0n9k42nGfmoPfFgPsn7ZF6ixa8+ysmhNpOmuin3jINh71VrKTRzyufuhvBiWSjasWHCAY43PVJU6TpvZbfhaUuWzpbqtmsLBlTl5EzTE/NA6eimwbnK91Pjlw+qiWcPPim7ZM6lbBfPop01lo4X5qxtExklbBIipAK6ls53exzV1RjKbcVVwa0HMm53ADMnOwSdkUUspobOXGwy1Wn7a7ca0GnRMnJzx5hv8A+um9J9s/EDqgLKYLKeR/U7+47uHqtAqxxv2v+Er5EtT/ANBCEKxAEIQgAQhCABCEIAEIQgAQhCALqFdzHBzSWkagrpdh+KJgVh/kBbxaMvCeS5RCWomvR5tz4en0XMqNxMcHDeDP8ciq6rXNyPUSfJed7PtD2GWOc07wSD5LebJ8V1Rao0PG+zXdQI8lzvgaetl55k/dHQ4wcz5EKylTC19Lt3ZqnzFzD/UDHVs+cJ2i5rvkqsdwDgT0n6JGmvdDpp+bLSy8LBYdxU/w3EXBHER/Ky1pbmX+I+yXI+CoiMm5qh85a9OK2LKU6eRPUq3/AI8flE52glYqwDnIhS2RxuT4FXv2NsbvfNSq7YxnzOa3+5wb6mVq9r+JaDfzF5GjWz/sYHRav3KejG4lbHRsu/LLX1VhptaMTnBrRmSQB1XLbZ8VvP8A8bQ3ie87zt6rR7Ttb6hxPeXHicuQyHgqrhqv7PBJ80rxZOr7Q+KabZFEYz+pwgDkLE+S5XbNtfVdiqPLjxyHICw8EqhXnjmfCNclV6CEITkwQhCABCEIAEIQgAQhCABCEIAEIQgAQhCABCEIAApIQsYyOm+GtOS6z8iELi5f7HbxeEvyu5H0XMfEeXvcFlCXj/sHJ4cgsIQvQOJghCECghCEACEIQAIQhAAhCEACEIQB/9k=' height=\"400\" width=\"400\"/>\n",
    "\n",
    "\n"
   ]
  },
  {
   "cell_type": "code",
   "execution_count": 5,
   "id": "1279b40d",
   "metadata": {},
   "outputs": [
    {
     "data": {
      "image/png": "[encoded data removed]",
      "text/plain": [
       "<Figure size 432x288 with 1 Axes>"
      ]
     },
     "metadata": {
      "needs_background": "light"
     },
     "output_type": "display_data"
    }
   ],
   "source": [
    "import matplotlib.pyplot as plt\n",
    "import numpy as np\n",
    "%matplotlib inline\n",
    "x = np.random.rand(30)\n",
    "plt.hist(x);"
   ]
  },
  {
   "cell_type": "markdown",
   "id": "8d1d36bc",
   "metadata": {},
   "source": [
    "# Shortcuts"
   ]
  },
  {
   "cell_type": "code",
   "execution_count": 1,
   "id": "1cfdc3de",
   "metadata": {},
   "outputs": [
    {
     "ename": "SyntaxError",
     "evalue": "invalid syntax (809941930.py, line 1)",
     "output_type": "error",
     "traceback": [
      "\u001b[0;36m  File \u001b[0;32m\"/var/folders/f6/82v5s4vs3_s9h4b3z9dzgkg00000gn/T/ipykernel_13638/809941930.py\"\u001b[0;36m, line \u001b[0;32m1\u001b[0m\n\u001b[0;31m    KEYBOARD SHORTCUTS         USE\u001b[0m\n\u001b[0m             ^\u001b[0m\n\u001b[0;31mSyntaxError\u001b[0m\u001b[0;31m:\u001b[0m invalid syntax\n"
     ]
    }
   ],
   "source": [
    "KEYBOARD SHORTCUTS         USE\n",
    "ESC + M                  Convert a Code Cell Into Markdown/\n",
    "ESC + B                  Insert a Code Cell Below/\n",
    "ESC + A                  Insert a Code Cell Above\n",
    "SHIFT + ENTER            Run Current Cell\n",
    "ESC + 1                  change cell to heading 1\n",
    "ESC + 2                  change cell to heading 2\n",
    "ESC + 3                  change cell to heading 3\n",
    "ESC + 4                  change cell to heading 4\n",
    "ESC + 5                  change cell to heading 5\n",
    "ESC + 6                  change cell to heading 6\n",
    "ESC + I                  Interrupt the kernel\n",
    "ESC + 0                  Restart the kernel\n",
    "Shift + Space            Scroll notebook up\n",
    "Space                    Scroll notebook down\n",
    "Tab                      Code completion or Indent\n",
    "Shift + Tab              Tooltip \n",
    "Ctrl-]                   Indent n/\n",
    "Ctrl-[                   Dedent /\n",
    "Ctrl-/                   Comment/\n",
    "Ctrl-D                   Delete whole line \n",
    "Esc                      Enter command modem"
   ]
  },
  {
   "cell_type": "markdown",
   "id": "201e3475",
   "metadata": {},
   "source": [
    "***References: [Notebook Examples](https://jupyter-notebook.readthedocs.io/en/stable/examples/Notebook/examples_index.html)*** \n"
   ]
  },
  {
   "cell_type": "code",
   "execution_count": null,
   "id": "ce33bbf5",
   "metadata": {},
   "outputs": [],
   "source": []
  }
 ],
 "metadata": {
  "gist": {
   "data": {
    "description": "IT_academy/DataScienceIT/S01T01.ipynb",
    "public": true
   },
   "id": ""
  },
  "kernelspec": {
   "display_name": "Python 3 (ipykernel)",
   "language": "python",
   "name": "python3"
  },
  "language_info": {
   "codemirror_mode": {
    "name": "ipython",
    "version": 3
   },
   "file_extension": ".py",
   "mimetype": "text/x-python",
   "name": "python",
   "nbconvert_exporter": "python",
   "pygments_lexer": "ipython3",
   "version": "3.9.7"
  },
  "notify_time": "5",
  "toc": {
   "base_numbering": 1,
   "nav_menu": {},
   "number_sections": true,
   "sideBar": true,
   "skip_h1_title": false,
   "title_cell": "Table of Contents",
   "title_sidebar": "Contents",
   "toc_cell": false,
   "toc_position": {},
   "toc_section_display": true,
   "toc_window_display": false
  },
  "varInspector": {
   "cols": {
    "lenName": 16,
    "lenType": 16,
    "lenVar": 40
   },
   "kernels_config": {
    "python": {
     "delete_cmd_postfix": "",
     "delete_cmd_prefix": "del ",
     "library": "var_list.py",
     "varRefreshCmd": "print(var_dic_list())"
    },
    "r": {
     "delete_cmd_postfix": ") ",
     "delete_cmd_prefix": "rm(",
     "library": "var_list.r",
     "varRefreshCmd": "cat(var_dic_list()) "
    }
   },
   "types_to_exclude": [
    "module",
    "function",
    "builtin_function_or_method",
    "instance",
    "_Feature"
   ],
   "window_display": false
  }
 },
 "nbformat": 4,
 "nbformat_minor": 5
}
